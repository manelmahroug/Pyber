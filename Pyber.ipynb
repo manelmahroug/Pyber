{
 "cells": [
  {
   "cell_type": "code",
   "execution_count": 1,
   "metadata": {
    "collapsed": true
   },
   "outputs": [],
   "source": [
    "#Dependencies\n",
    "\n",
    "import pandas as pd\n",
    "import matplotlib.pyplot as plt\n",
    "import numpy as np\n",
    "import os\n",
    "import seaborn as sns\n"
   ]
  },
  {
   "cell_type": "code",
   "execution_count": null,
   "metadata": {
    "collapsed": true
   },
   "outputs": [],
   "source": [
    "# Putting files into variables and reading csv\n",
    "\n",
    "file1 = os.path.join('raw_data', 'clinicaltrial_data.csv')\n",
    "file2 = os.path.join('raw_data', 'mouse_drug_data.csv')\n",
    "\n",
    "trial_data = pd.read_csv(file1)\n",
    "mouse_data = pd.read_csv(file2)\n",
    "\n",
    "merged_df = trial_data.merge(mouse_data, on = 'Mouse ID')"
   ]
  }
 ],
 "metadata": {
  "kernelspec": {
   "display_name": "Python [conda env:anaconda3]",
   "language": "python",
   "name": "conda-env-anaconda3-py"
  },
  "language_info": {
   "codemirror_mode": {
    "name": "ipython",
    "version": 3
   },
   "file_extension": ".py",
   "mimetype": "text/x-python",
   "name": "python",
   "nbconvert_exporter": "python",
   "pygments_lexer": "ipython3",
   "version": "3.6.3"
  }
 },
 "nbformat": 4,
 "nbformat_minor": 2
}
