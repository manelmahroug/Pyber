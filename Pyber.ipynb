{
 "cells": [
  {
   "cell_type": "code",
   "execution_count": 48,
   "metadata": {},
   "outputs": [
    {
     "data": {
      "text/plain": [
       "'\\n Your objective is to build a bubble plot that showcases the relationship between four key variables:\\n\\n* Average Fare ($) Per City\\n* Total Number of Rides Per City\\n* Total Number of Drivers Per City\\n* City Type (Urban, Suburban, Rural)\\n\\nIn addition, you will be expected to produce the following three pie charts:\\n\\n* % of Total Fares by City Type\\n* % of Total Rides by City Type\\n* % of Total Drivers by City Type \\n\\n'"
      ]
     },
     "execution_count": 48,
     "metadata": {},
     "output_type": "execute_result"
    }
   ],
   "source": [
    "\"\"\"\n",
    " Your objective is to build a bubble plot that showcases the relationship between four key variables:\n",
    "\n",
    "* Average Fare ($) Per City\n",
    "* Total Number of Rides Per City\n",
    "* Total Number of Drivers Per City\n",
    "* City Type (Urban, Suburban, Rural)\n",
    "\n",
    "In addition, you will be expected to produce the following three pie charts:\n",
    "\n",
    "* % of Total Fares by City Type\n",
    "* % of Total Rides by City Type\n",
    "* % of Total Drivers by City Type \n",
    "\n",
    "\"\"\""
   ]
  },
  {
   "cell_type": "code",
   "execution_count": 49,
   "metadata": {
    "collapsed": true
   },
   "outputs": [],
   "source": [
    "#Dependencies\n",
    "\n",
    "import pandas as pd\n",
    "import matplotlib.pyplot as plt\n",
    "import numpy as np\n",
    "import os\n",
    "import seaborn as sns"
   ]
  },
  {
   "cell_type": "code",
   "execution_count": 50,
   "metadata": {},
   "outputs": [
    {
     "data": {
      "text/html": [
       "<div>\n",
       "<style>\n",
       "    .dataframe thead tr:only-child th {\n",
       "        text-align: right;\n",
       "    }\n",
       "\n",
       "    .dataframe thead th {\n",
       "        text-align: left;\n",
       "    }\n",
       "\n",
       "    .dataframe tbody tr th {\n",
       "        vertical-align: top;\n",
       "    }\n",
       "</style>\n",
       "<table border=\"1\" class=\"dataframe\">\n",
       "  <thead>\n",
       "    <tr style=\"text-align: right;\">\n",
       "      <th></th>\n",
       "      <th>city</th>\n",
       "      <th>driver_count</th>\n",
       "      <th>type</th>\n",
       "      <th>date</th>\n",
       "      <th>fare</th>\n",
       "      <th>ride_id</th>\n",
       "    </tr>\n",
       "  </thead>\n",
       "  <tbody>\n",
       "    <tr>\n",
       "      <th>0</th>\n",
       "      <td>Kelseyland</td>\n",
       "      <td>63</td>\n",
       "      <td>Urban</td>\n",
       "      <td>8/19/16 4:27</td>\n",
       "      <td>5.51</td>\n",
       "      <td>6.246010e+12</td>\n",
       "    </tr>\n",
       "    <tr>\n",
       "      <th>1</th>\n",
       "      <td>Kelseyland</td>\n",
       "      <td>63</td>\n",
       "      <td>Urban</td>\n",
       "      <td>4/17/16 6:59</td>\n",
       "      <td>5.54</td>\n",
       "      <td>7.466470e+12</td>\n",
       "    </tr>\n",
       "    <tr>\n",
       "      <th>2</th>\n",
       "      <td>Kelseyland</td>\n",
       "      <td>63</td>\n",
       "      <td>Urban</td>\n",
       "      <td>5/4/16 15:06</td>\n",
       "      <td>30.54</td>\n",
       "      <td>2.140500e+12</td>\n",
       "    </tr>\n",
       "    <tr>\n",
       "      <th>3</th>\n",
       "      <td>Kelseyland</td>\n",
       "      <td>63</td>\n",
       "      <td>Urban</td>\n",
       "      <td>1/25/16 20:44</td>\n",
       "      <td>12.08</td>\n",
       "      <td>1.896990e+12</td>\n",
       "    </tr>\n",
       "    <tr>\n",
       "      <th>4</th>\n",
       "      <td>Kelseyland</td>\n",
       "      <td>63</td>\n",
       "      <td>Urban</td>\n",
       "      <td>8/9/16 18:19</td>\n",
       "      <td>17.91</td>\n",
       "      <td>8.784210e+12</td>\n",
       "    </tr>\n",
       "  </tbody>\n",
       "</table>\n",
       "</div>"
      ],
      "text/plain": [
       "         city  driver_count   type           date   fare       ride_id\n",
       "0  Kelseyland            63  Urban   8/19/16 4:27   5.51  6.246010e+12\n",
       "1  Kelseyland            63  Urban   4/17/16 6:59   5.54  7.466470e+12\n",
       "2  Kelseyland            63  Urban   5/4/16 15:06  30.54  2.140500e+12\n",
       "3  Kelseyland            63  Urban  1/25/16 20:44  12.08  1.896990e+12\n",
       "4  Kelseyland            63  Urban   8/9/16 18:19  17.91  8.784210e+12"
      ]
     },
     "execution_count": 50,
     "metadata": {},
     "output_type": "execute_result"
    }
   ],
   "source": [
    "# Read csv\n",
    "\n",
    "city_df = pd.read_csv (\"raw-data/city_data.csv\")\n",
    "ride_df= pd.read_csv(\"raw-data/ride_data.csv\")\n",
    "\n",
    "#merge the two data sets\n",
    "\n",
    "merged_df = city_df.merge(ride_df, on = \"city\", how = 'outer')\n",
    "merged_df.head()"
   ]
  },
  {
   "cell_type": "code",
   "execution_count": 55,
   "metadata": {},
   "outputs": [],
   "source": [
    "#group by city name\n",
    "by_city = merged_df.groupby('city')\n",
    "\n",
    "#calculate average fare\n",
    "ave_fare = by_city['fare'].mean()\n",
    "\n",
    "#calculate the total number of rides\n",
    "total_rides = by_city['ride_id'].count()\n",
    " \n",
    "#total number of drivers\n",
    "total_drivers = by_city['driver_count'].sum()\n",
    "\n",
    "#city type\n",
    "urban_city = merged_df.loc[(merged_df[\"type\"] == \"Urban\")]\n",
    "suburban_city = merged_df.loc[(merged_df[\"type\"] == \"Suburban\")]\n",
    "rural_city = merged_df.loc[(merged_df[\"type\"] == \"Rural\")]\n"
   ]
  },
  {
   "cell_type": "code",
   "execution_count": 68,
   "metadata": {},
   "outputs": [
    {
     "data": {
      "image/png": "[encoded data removed]",
      "text/plain": [
       "<matplotlib.figure.Figure at 0x104b73c18>"
      ]
     },
     "metadata": {},
     "output_type": "display_data"
    },
    {
     "data": {
      "text/plain": [
       "<function matplotlib.pyplot.savefig>"
      ]
     },
     "execution_count": 68,
     "metadata": {},
     "output_type": "execute_result"
    }
   ],
   "source": [
    "#total fare per city type\n",
    " \n",
    "total_fare = merged_df.groupby(['type'])['fare'].sum()\n",
    "\n",
    "# Labels for the sections of our pie chart\n",
    "labels = [\"Rural\",\"Suburban\",\"Urban\" ]\n",
    "\n",
    "# The colors of each section of the pie chart\n",
    "colors = [\"orange\",\"grey\",\"coral\"]\n",
    "explode = (0, 0, 0.1)\n",
    "plt.title(\"% of Total Fares By City Types\")\n",
    "plt.pie(total_fare, explode=explode, labels=labels, colors=colors, autopct=\"%1.1f%%\", startangle = 90)\n",
    "plt.axis(\"equal\")\n",
    " \n",
    "plt.show()\n",
    "plt.savefig"
   ]
  },
  {
   "cell_type": "code",
   "execution_count": 67,
   "metadata": {},
   "outputs": [
    {
     "data": {
      "image/png": "[encoded data removed]",
      "text/plain": [
       "<matplotlib.figure.Figure at 0x1a0b045160>"
      ]
     },
     "metadata": {},
     "output_type": "display_data"
    }
   ],
   "source": [
    "#total rides by city type\n",
    " \n",
    "total_rides = merged_df.groupby(['type'])['ride_id'].count()\n",
    "# Labels for the sections of our pie chart\n",
    "labels = [\"Rural\",\"Suburban\",\"Urban\" ]\n",
    "# The colors of each section of the pie chart\n",
    "colors = [\"gold\",\"lightskyblue\",\"coral\"]\n",
    "explode = (0, 0, 0.1)\n",
    "plt.title(\"% of Total Rides By City Types\")\n",
    "plt.pie(total_rides, explode=explode, labels=labels, colors=colors,\n",
    "        autopct=\"%1.1f%%\", shadow=True, startangle=140)\n",
    "plt.axis(\"equal\")\n",
    "plt.savefig \n",
    "plt.show()\n"
   ]
  },
  {
   "cell_type": "code",
   "execution_count": 74,
   "metadata": {},
   "outputs": [
    {
     "data": {
      "image/png": "[encoded data removed]",
      "text/plain": [
       "<matplotlib.figure.Figure at 0x1a138785f8>"
      ]
     },
     "metadata": {},
     "output_type": "display_data"
    }
   ],
   "source": [
    "#total drivers by city type\n",
    "\n",
    "#calculate total number of drivers by city type \n",
    "total_drivers = merged_df.groupby(['type'])['driver_count'].sum()\n",
    "\n",
    "#Labels for the sections of the pie chart\n",
    "labels = [\"Rural\",\"Suburban\",\"Urban\" ]\n",
    "\n",
    "#The colors of each section of the pie chart\n",
    "colors = [\"liggreen\",\"lightskyblue\",\"coral\"]\n",
    "explode = (0, 0, 0.1)\n",
    "plt.title(\"% of Total Drivers By City Types\")\n",
    "plt.pie(total_drivers, explode=explode, labels=labels, colors=colors,\n",
    "        autopct=\"%1.1f%%\", startangle = 90)\n",
    "plt.axis(\"equal\")\n",
    "\n",
    "plt.show()"
   ]
  },
  {
   "cell_type": "code",
   "execution_count": null,
   "metadata": {
    "collapsed": true
   },
   "outputs": [],
   "source": []
  }
 ],
 "metadata": {
  "kernelspec": {
   "display_name": "Python [conda env:anaconda3]",
   "language": "python",
   "name": "conda-env-anaconda3-py"
  },
  "language_info": {
   "codemirror_mode": {
    "name": "ipython",
    "version": 3
   },
   "file_extension": ".py",
   "mimetype": "text/x-python",
   "name": "python",
   "nbconvert_exporter": "python",
   "pygments_lexer": "ipython3",
   "version": "3.6.3"
  }
 },
 "nbformat": 4,
 "nbformat_minor": 2
}
